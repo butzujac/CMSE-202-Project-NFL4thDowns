{
 "cells": [
  {
   "cell_type": "markdown",
   "id": "a36cc88c",
   "metadata": {},
   "source": [
    "# <p style=\"text-align: center;\">  Summary Statistics </p>\n",
    "\n",
    "\n",
    "#### What do we wish to accomplish?\n",
    "\n",
    "1. The first step is to create a linear regression model, determine which parameters are significant, and then continuously repeat this process until we have a good model.\n",
    "\n",
    "2. How can we determine how great the model is? We can look at the adjusted R-Squared of our model. We will also take a look at residual plots to find outliers and leverage points.\n",
    "\n",
    "\n",
    "\n",
    "Initial thoughts:\n",
    "\n",
    "We are attempting to determine whether or not a play results in a first down conversion, or whether or not to 'go for it' on a fourth down. "
   ]
  },
  {
   "cell_type": "code",
   "execution_count": 1,
   "id": "03153099",
   "metadata": {},
   "outputs": [],
   "source": [
    "# Everybody's favorite imports\n",
    "import numpy as np\n",
    "import pandas as pd\n",
    "import seaborn as sns\n",
    "import matplotlib.pyplot as plt"
   ]
  },
  {
   "cell_type": "code",
   "execution_count": 2,
   "id": "7071e87b",
   "metadata": {},
   "outputs": [],
   "source": [
    "data = pd.read_csv(\"plays_4thdowns.csv\")\n",
    "\n",
    "# Getting the columns necessary\n",
    "newdata = data[[\"down\", \"quarter\", 'yardsToGo', 'yardlineNumber', 'defendersInTheBox', \n",
    "                'numberOfPassRushers', 'HomeScoreBeforePlay', 'HomeScoreAfterPlay', 'VisitorScoreBeforePlay',\n",
    "               'VisitorScoreBeforePlay', 'isPenalty', 'PassLength', 'YardsAfterCatch', 'PlayResult',\n",
    "               'firstDown_Conversion']]\n",
    "\n",
    "newdata = newdata.dropna()"
   ]
  },
  {
   "cell_type": "code",
   "execution_count": 3,
   "id": "7110949a",
   "metadata": {},
   "outputs": [],
   "source": [
    "# Creating train and test sets\n",
    "from sklearn.model_selection import train_test_split\n",
    "\n",
    "\n",
    "# Split the dataset into training and testing sets (70-30 split is ideal)\n",
    "X_train, X_test, y_train, y_test = train_test_split(newdata.drop('firstDown_Conversion', axis=1), \n",
    "                                                    newdata['firstDown_Conversion'], test_size=0.3, random_state=42)\n",
    "\n",
    "# Print the size of the training and testing sets\n",
    "#print(f\"Training set size: {len(train_set)}\\nTest set size: {len(test_set)}\")"
   ]
  },
  {
   "cell_type": "code",
   "execution_count": 4,
   "id": "2993e074",
   "metadata": {},
   "outputs": [
    {
     "name": "stdout",
     "output_type": "stream",
     "text": [
      "Accuracy: 0.8461538461538461\n"
     ]
    },
    {
     "name": "stderr",
     "output_type": "stream",
     "text": [
      "/home/anolickb/.local/lib/python3.8/site-packages/sklearn/linear_model/_logistic.py:458: ConvergenceWarning: lbfgs failed to converge (status=1):\n",
      "STOP: TOTAL NO. of ITERATIONS REACHED LIMIT.\n",
      "\n",
      "Increase the number of iterations (max_iter) or scale the data as shown in:\n",
      "    https://scikit-learn.org/stable/modules/preprocessing.html\n",
      "Please also refer to the documentation for alternative solver options:\n",
      "    https://scikit-learn.org/stable/modules/linear_model.html#logistic-regression\n",
      "  n_iter_i = _check_optimize_result(\n"
     ]
    }
   ],
   "source": [
    "from sklearn.linear_model import LogisticRegression\n",
    "from sklearn.linear_model import LinearRegression\n",
    "from sklearn.metrics import accuracy_score\n",
    "\n",
    "# Create a logistic regression model and fit it to the training data\n",
    "lr_model = LogisticRegression()\n",
    "\n",
    "lr_model.fit(X_train, y_train)\n",
    "\n",
    "# Use the trained model to make predictions on the testing data\n",
    "y_pred = lr_model.predict(X_test)\n",
    "\n",
    "# Evaluate the accuracy of the model\n",
    "accuracy = accuracy_score(y_test, y_pred)\n",
    "print(f\"Accuracy: {accuracy}\")\n"
   ]
  },
  {
   "cell_type": "markdown",
   "id": "955378c7",
   "metadata": {},
   "source": [
    "We received an accuracy score of 0.84. That's not bad! However, we want to aim to get this model to have an accuracy of at least 0.95 (this is preference, but I believe this is a good score)."
   ]
  },
  {
   "cell_type": "code",
   "execution_count": 5,
   "id": "7a294900",
   "metadata": {},
   "outputs": [
    {
     "name": "stdout",
     "output_type": "stream",
     "text": [
      "Coefficients:  [[-0.00803561  0.03701661 -1.18450159  0.03157324  0.16788192  0.02490207\n",
      "  -0.11447176  0.07117571  0.04414183  0.04414183  0.01185547  0.63649603\n",
      "  -0.251396    0.54542646]] \n",
      "\n",
      "Intercept:  [0.32924953] \n",
      "\n"
     ]
    }
   ],
   "source": [
    "print(\"Coefficients: \", lr_model.coef_, '\\n')\n",
    "print(\"Intercept: \", lr_model.intercept_, '\\n')"
   ]
  },
  {
   "cell_type": "markdown",
   "id": "0c555ecb",
   "metadata": {},
   "source": [
    "Lets take a look at some residual plots!"
   ]
  },
  {
   "cell_type": "code",
   "execution_count": 6,
   "id": "ae684287",
   "metadata": {},
   "outputs": [
    {
     "data": {
      "image/png": "[encoded data removed]",
      "text/plain": [
       "<Figure size 432x288 with 1 Axes>"
      ]
     },
     "metadata": {
      "needs_background": "light"
     },
     "output_type": "display_data"
    },
    {
     "name": "stdout",
     "output_type": "stream",
     "text": [
      "Classification report:\n",
      "               precision    recall  f1-score   support\n",
      "\n",
      "         0.0       0.50      0.50      0.50         2\n",
      "         1.0       0.91      0.91      0.91        11\n",
      "\n",
      "    accuracy                           0.85        13\n",
      "   macro avg       0.70      0.70      0.70        13\n",
      "weighted avg       0.85      0.85      0.85        13\n",
      "\n"
     ]
    }
   ],
   "source": [
    "residuals = y_test - y_pred\n",
    "from sklearn.metrics import classification_report\n",
    "plt.scatter(y_pred, residuals)\n",
    "plt.xlabel(\"Predicted Values\")\n",
    "plt.ylabel(\"Residuals\")\n",
    "plt.axhline(y=0, color='r', linestyle='-')\n",
    "plt.title(\"Residual Plot\")\n",
    "plt.show()\n",
    "print(\"Classification report:\\n\", classification_report(y_test, y_pred))\n",
    "\n",
    "# I guess this was kinda useful for logistic regression"
   ]
  },
  {
   "cell_type": "code",
   "execution_count": 7,
   "id": "7babb80a",
   "metadata": {},
   "outputs": [
    {
     "data": {
      "text/plain": [
       "array([[ 1,  1],\n",
       "       [ 1, 10]])"
      ]
     },
     "execution_count": 7,
     "metadata": {},
     "output_type": "execute_result"
    }
   ],
   "source": [
    "from sklearn.metrics import confusion_matrix\n",
    "\n",
    "confusion = confusion_matrix(y_test, y_pred)\n",
    "confusion\n"
   ]
  },
  {
   "cell_type": "markdown",
   "id": "4ac3aa19",
   "metadata": {},
   "source": [
    "Interesting, we received 1 True Positive and 10 True Negatives, and only 1 False Pos. and 1 False Neg."
   ]
  }
 ],
 "metadata": {
  "kernelspec": {
   "display_name": "Python 3",
   "language": "python",
   "name": "python3"
  },
  "language_info": {
   "codemirror_mode": {
    "name": "ipython",
    "version": 3
   },
   "file_extension": ".py",
   "mimetype": "text/x-python",
   "name": "python",
   "nbconvert_exporter": "python",
   "pygments_lexer": "ipython3",
   "version": "3.8.8"
  }
 },
 "nbformat": 4,
 "nbformat_minor": 5
}
